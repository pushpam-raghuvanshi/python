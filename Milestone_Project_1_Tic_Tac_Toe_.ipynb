{
  "nbformat": 4,
  "nbformat_minor": 0,
  "metadata": {
    "colab": {
      "name": "Milestone_Project_1_Tic_Tac_Toe .ipynb",
      "provenance": [],
      "collapsed_sections": [],
      "authorship_tag": "ABX9TyN8UYeZ3117c+b1u4rWgp+P"
    },
    "kernelspec": {
      "name": "python3",
      "display_name": "Python 3"
    },
    "language_info": {
      "name": "python"
    }
  },
  "cells": [
    {
      "cell_type": "markdown",
      "source": [
        "# **MILESTONE PROJECT-1 | TIC TAC TOE GAME**\n",
        "---\n",
        "\n"
      ],
      "metadata": {
        "id": "YHlOXHjsJNsF"
      }
    },
    {
      "cell_type": "markdown",
      "source": [
        "**1.   Displaying Information**"
      ],
      "metadata": {
        "id": "2ATTvuOtK6z3"
      }
    },
    {
      "cell_type": "code",
      "execution_count": null,
      "metadata": {
        "id": "NmbBm0U-IrHk"
      },
      "outputs": [],
      "source": [
        "def dispay(row1,row2,row3):\n",
        "  print(row1)\n",
        "  print(row2)\n",
        "  print(row3)"
      ]
    },
    {
      "cell_type": "code",
      "source": [
        "row1 = [' ',' ',' ']\n",
        "row2 = [' ',' ',' ']\n",
        "row3 = [' ',' ',' ']"
      ],
      "metadata": {
        "id": "9pJAoFfoJ0mT"
      },
      "execution_count": null,
      "outputs": []
    },
    {
      "cell_type": "code",
      "source": [
        "dispay(row1,row2,row3)"
      ],
      "metadata": {
        "colab": {
          "base_uri": "https://localhost:8080/"
        },
        "id": "seAU3n_3J8gV",
        "outputId": "fe0de4b4-d746-4d77-eabb-738bc37d6be5"
      },
      "execution_count": null,
      "outputs": [
        {
          "output_type": "stream",
          "name": "stdout",
          "text": [
            "[' ', ' ', ' ']\n",
            "[' ', ' ', ' ']\n",
            "[' ', ' ', ' ']\n"
          ]
        }
      ]
    },
    {
      "cell_type": "code",
      "source": [
        "row2[1] = 'X'"
      ],
      "metadata": {
        "id": "btyE2HFtKCPz"
      },
      "execution_count": null,
      "outputs": []
    },
    {
      "cell_type": "code",
      "source": [
        "dispay(row1,row2,row3)"
      ],
      "metadata": {
        "colab": {
          "base_uri": "https://localhost:8080/"
        },
        "id": "aGn3rMYtKGP2",
        "outputId": "2c64de60-509a-4bb7-ea70-1cbce3317be5"
      },
      "execution_count": null,
      "outputs": [
        {
          "output_type": "stream",
          "name": "stdout",
          "text": [
            "[' ', ' ', ' ']\n",
            "[' ', 'X', ' ']\n",
            "[' ', ' ', ' ']\n"
          ]
        }
      ]
    },
    {
      "cell_type": "markdown",
      "source": [
        "**2.   Accepting User Input** "
      ],
      "metadata": {
        "id": "a9_tINAoLRs6"
      }
    },
    {
      "cell_type": "code",
      "source": [
        "position_index = int(input(\"Choose an index position: \"))"
      ],
      "metadata": {
        "colab": {
          "base_uri": "https://localhost:8080/"
        },
        "id": "PWLhewJ5M7gN",
        "outputId": "51c8ef53-b905-4df6-9c94-7c06fcbfd174"
      },
      "execution_count": null,
      "outputs": [
        {
          "name": "stdout",
          "output_type": "stream",
          "text": [
            "Choose an index position: 1\n"
          ]
        }
      ]
    },
    {
      "cell_type": "code",
      "source": [
        "row1[position_index]"
      ],
      "metadata": {
        "colab": {
          "base_uri": "https://localhost:8080/",
          "height": 35
        },
        "id": "C-hyJoZlNfCa",
        "outputId": "c8b8e523-b2e6-40bc-a41a-5d2697ac1c3b"
      },
      "execution_count": null,
      "outputs": [
        {
          "output_type": "execute_result",
          "data": {
            "text/plain": [
              "' '"
            ],
            "application/vnd.google.colaboratory.intrinsic+json": {
              "type": "string"
            }
          },
          "metadata": {},
          "execution_count": 33
        }
      ]
    },
    {
      "cell_type": "markdown",
      "source": [
        "**2.   Validating User Input** "
      ],
      "metadata": {
        "id": "BIdui1kKP68d"
      }
    },
    {
      "cell_type": "code",
      "source": [
        "position_index = int(input(\"Choose an index position: \"))"
      ],
      "metadata": {
        "colab": {
          "base_uri": "https://localhost:8080/",
          "height": 183
        },
        "id": "4OIWifvdQAFB",
        "outputId": "147c9faa-b534-4d73-f19a-8aac7a2e4be7"
      },
      "execution_count": 1,
      "outputs": [
        {
          "name": "stdout",
          "output_type": "stream",
          "text": [
            "Choose an index position: two\n"
          ]
        },
        {
          "output_type": "error",
          "ename": "ValueError",
          "evalue": "ignored",
          "traceback": [
            "\u001b[0;31m---------------------------------------------------------------------------\u001b[0m",
            "\u001b[0;31mValueError\u001b[0m                                Traceback (most recent call last)",
            "\u001b[0;32m<ipython-input-1-93d3d398700a>\u001b[0m in \u001b[0;36m<module>\u001b[0;34m\u001b[0m\n\u001b[0;32m----> 1\u001b[0;31m \u001b[0mposition_index\u001b[0m \u001b[0;34m=\u001b[0m \u001b[0mint\u001b[0m\u001b[0;34m(\u001b[0m\u001b[0minput\u001b[0m\u001b[0;34m(\u001b[0m\u001b[0;34m\"Choose an index position: \"\u001b[0m\u001b[0;34m)\u001b[0m\u001b[0;34m)\u001b[0m\u001b[0;34m\u001b[0m\u001b[0;34m\u001b[0m\u001b[0m\n\u001b[0m",
            "\u001b[0;31mValueError\u001b[0m: invalid literal for int() with base 10: 'two'"
          ]
        }
      ]
    },
    {
      "cell_type": "code",
      "source": [
        "def user_choice():\n",
        "\n",
        "  choice = input(\"Please enter a number (0-10): \")\n",
        "\n",
        "  return int(choice)"
      ],
      "metadata": {
        "id": "O_ONak6y9xxQ"
      },
      "execution_count": 2,
      "outputs": []
    },
    {
      "cell_type": "code",
      "source": [
        "user_choice()"
      ],
      "metadata": {
        "colab": {
          "base_uri": "https://localhost:8080/"
        },
        "id": "27cT9AyC-Nvi",
        "outputId": "f76845f3-bc01-4c96-a929-60d683239217"
      },
      "execution_count": 3,
      "outputs": [
        {
          "name": "stdout",
          "output_type": "stream",
          "text": [
            "Please enter a number (0-10): 5\n"
          ]
        },
        {
          "output_type": "execute_result",
          "data": {
            "text/plain": [
              "5"
            ]
          },
          "metadata": {},
          "execution_count": 3
        }
      ]
    },
    {
      "cell_type": "code",
      "source": [
        "user_choice() # also able to print 100 but this is out of limit"
      ],
      "metadata": {
        "colab": {
          "base_uri": "https://localhost:8080/"
        },
        "id": "qLWK5YdW-Q0x",
        "outputId": "d3bcaa55-6f04-4d49-d36c-3c0314e66041"
      },
      "execution_count": 5,
      "outputs": [
        {
          "name": "stdout",
          "output_type": "stream",
          "text": [
            "Please enter a number (0-10): 100\n"
          ]
        },
        {
          "output_type": "execute_result",
          "data": {
            "text/plain": [
              "100"
            ]
          },
          "metadata": {},
          "execution_count": 5
        }
      ]
    },
    {
      "cell_type": "code",
      "source": [
        "some_value = '100'"
      ],
      "metadata": {
        "id": "4fkoUy8mGMDY"
      },
      "execution_count": 6,
      "outputs": []
    },
    {
      "cell_type": "code",
      "source": [
        "some_value.isdigit()"
      ],
      "metadata": {
        "colab": {
          "base_uri": "https://localhost:8080/"
        },
        "id": "hDW9Iku2GQAP",
        "outputId": "69d38743-091a-4206-ea67-fb4bf4e6ea2e"
      },
      "execution_count": 8,
      "outputs": [
        {
          "output_type": "execute_result",
          "data": {
            "text/plain": [
              "True"
            ]
          },
          "metadata": {},
          "execution_count": 8
        }
      ]
    },
    {
      "cell_type": "code",
      "source": [
        "int(some_value)"
      ],
      "metadata": {
        "colab": {
          "base_uri": "https://localhost:8080/"
        },
        "id": "tJD0FfdYGtRa",
        "outputId": "a7865ae6-8329-4aa3-c813-68be92d03310"
      },
      "execution_count": 9,
      "outputs": [
        {
          "output_type": "execute_result",
          "data": {
            "text/plain": [
              "100"
            ]
          },
          "metadata": {},
          "execution_count": 9
        }
      ]
    },
    {
      "cell_type": "code",
      "source": [
        "def user_choice():\n",
        "  choice = 'WRONG'\n",
        "  while choice.isdigit() == False:\n",
        "\n",
        "    choice = input(\"Please enter a number (0-10): \")\n",
        "\n",
        "    if choice.isdigit() == False:\n",
        "      print(\"Sorry that is not a digit\")\n",
        "      \n",
        "  return int(choice)"
      ],
      "metadata": {
        "id": "LkOYVWh7-h7T"
      },
      "execution_count": 10,
      "outputs": []
    },
    {
      "cell_type": "code",
      "source": [
        "result = 'WRONG VALUE'"
      ],
      "metadata": {
        "id": "FJZZZj8mIHdG"
      },
      "execution_count": 11,
      "outputs": []
    },
    {
      "cell_type": "code",
      "source": [
        "acceptable_values = [0,1,2]"
      ],
      "metadata": {
        "id": "d44sB1lgInyg"
      },
      "execution_count": 12,
      "outputs": []
    },
    {
      "cell_type": "code",
      "source": [
        "result in acceptable_values"
      ],
      "metadata": {
        "colab": {
          "base_uri": "https://localhost:8080/"
        },
        "id": "161iUPoXIsNo",
        "outputId": "3b5fb502-5161-4895-a07b-ed6bbbbe03f4"
      },
      "execution_count": 13,
      "outputs": [
        {
          "output_type": "execute_result",
          "data": {
            "text/plain": [
              "False"
            ]
          },
          "metadata": {},
          "execution_count": 13
        }
      ]
    },
    {
      "cell_type": "code",
      "source": [
        "result not in acceptable_values"
      ],
      "metadata": {
        "colab": {
          "base_uri": "https://localhost:8080/"
        },
        "id": "iX348O0UIuG9",
        "outputId": "db5c6e66-f4cb-4bfd-c1d8-1eed6ff099c8"
      },
      "execution_count": 14,
      "outputs": [
        {
          "output_type": "execute_result",
          "data": {
            "text/plain": [
              "True"
            ]
          },
          "metadata": {},
          "execution_count": 14
        }
      ]
    },
    {
      "cell_type": "code",
      "source": [
        "def user_choice():\n",
        "\n",
        "  # VARIBLES\n",
        "\n",
        "  # Initial\n",
        "  choice = 'WRONG'\n",
        "  acceptable_range = range(10)\n",
        "  within_range = False\n",
        "\n",
        "  # Two condition to check\n",
        "  # digit or within_range == False\n",
        "  while choice.isdigit() == False or within_range == False:\n",
        "\n",
        "    choice = input(\"Please enter a number (0-10): \")\n",
        "# Digit check \n",
        "    if choice.isdigit() == False:\n",
        "      print(\"Sorry that is not a digit\")\n",
        "# range check\n",
        "    if choice.isdigit() == True:\n",
        "      if int(choice) in acceptable_range:\n",
        "        within_range = True\n",
        "      else:\n",
        "        print(\"Sorry, you are out of acceptable range (0-10)\")\n",
        "        within_range = False\n",
        "\n",
        "  return int(choice)"
      ],
      "metadata": {
        "id": "XwYiz2FFI0Lp"
      },
      "execution_count": 17,
      "outputs": []
    },
    {
      "cell_type": "code",
      "source": [
        "user_choice()"
      ],
      "metadata": {
        "colab": {
          "base_uri": "https://localhost:8080/"
        },
        "id": "6qE-zrJ3L-er",
        "outputId": "08a185b7-b484-4aa7-b5f8-b00bd727b1ea"
      },
      "execution_count": 18,
      "outputs": [
        {
          "name": "stdout",
          "output_type": "stream",
          "text": [
            "Please enter a number (0-10): x\n",
            "Sorry that is not a digit\n",
            "Please enter a number (0-10): 100\n",
            "Sorry, you are out of acceptable range (0-10)\n",
            "Please enter a number (0-10): 10\n",
            "Sorry, you are out of acceptable range (0-10)\n",
            "Please enter a number (0-10): 9\n"
          ]
        },
        {
          "output_type": "execute_result",
          "data": {
            "text/plain": [
              "9"
            ]
          },
          "metadata": {},
          "execution_count": 18
        }
      ]
    },
    {
      "cell_type": "code",
      "source": [],
      "metadata": {
        "id": "TKogPYwqMBdp"
      },
      "execution_count": null,
      "outputs": []
    }
  ]
}