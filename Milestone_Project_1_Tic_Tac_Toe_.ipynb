{
  "nbformat": 4,
  "nbformat_minor": 0,
  "metadata": {
    "colab": {
      "name": "Milestone_Project_1_Tic_Tac_Toe .ipynb",
      "provenance": [],
      "authorship_tag": "ABX9TyOCU6005ZBZNM/kmylXW8gl"
    },
    "kernelspec": {
      "name": "python3",
      "display_name": "Python 3"
    },
    "language_info": {
      "name": "python"
    }
  },
  "cells": [
    {
      "cell_type": "markdown",
      "source": [
        "# **MILESTONE PROJECT-1 | TIC TAC TOE GAME**\n",
        "---\n",
        "\n"
      ],
      "metadata": {
        "id": "YHlOXHjsJNsF"
      }
    },
    {
      "cell_type": "markdown",
      "source": [
        "**1.   Displaying Information**"
      ],
      "metadata": {
        "id": "2ATTvuOtK6z3"
      }
    },
    {
      "cell_type": "code",
      "execution_count": 19,
      "metadata": {
        "id": "NmbBm0U-IrHk"
      },
      "outputs": [],
      "source": [
        "def dispay(row1,row2,row3):\n",
        "  print(row1)\n",
        "  print(row2)\n",
        "  print(row3)"
      ]
    },
    {
      "cell_type": "code",
      "source": [
        "row1 = [' ',' ',' ']\n",
        "row2 = [' ',' ',' ']\n",
        "row3 = [' ',' ',' ']"
      ],
      "metadata": {
        "id": "9pJAoFfoJ0mT"
      },
      "execution_count": 20,
      "outputs": []
    },
    {
      "cell_type": "code",
      "source": [
        "dispay(row1,row2,row3)"
      ],
      "metadata": {
        "colab": {
          "base_uri": "https://localhost:8080/"
        },
        "id": "seAU3n_3J8gV",
        "outputId": "fe0de4b4-d746-4d77-eabb-738bc37d6be5"
      },
      "execution_count": 21,
      "outputs": [
        {
          "output_type": "stream",
          "name": "stdout",
          "text": [
            "[' ', ' ', ' ']\n",
            "[' ', ' ', ' ']\n",
            "[' ', ' ', ' ']\n"
          ]
        }
      ]
    },
    {
      "cell_type": "code",
      "source": [
        "row2[1] = 'X'"
      ],
      "metadata": {
        "id": "btyE2HFtKCPz"
      },
      "execution_count": 22,
      "outputs": []
    },
    {
      "cell_type": "code",
      "source": [
        "dispay(row1,row2,row3)"
      ],
      "metadata": {
        "colab": {
          "base_uri": "https://localhost:8080/"
        },
        "id": "aGn3rMYtKGP2",
        "outputId": "2c64de60-509a-4bb7-ea70-1cbce3317be5"
      },
      "execution_count": 23,
      "outputs": [
        {
          "output_type": "stream",
          "name": "stdout",
          "text": [
            "[' ', ' ', ' ']\n",
            "[' ', 'X', ' ']\n",
            "[' ', ' ', ' ']\n"
          ]
        }
      ]
    },
    {
      "cell_type": "markdown",
      "source": [
        "**2.   Accepting User Input** "
      ],
      "metadata": {
        "id": "a9_tINAoLRs6"
      }
    },
    {
      "cell_type": "code",
      "source": [
        "input(\"Please enter a value: \")"
      ],
      "metadata": {
        "colab": {
          "base_uri": "https://localhost:8080/",
          "height": 53
        },
        "id": "xveFiNd8KKLm",
        "outputId": "f2bd1205-5c51-42fd-ebeb-85757b1c5df2"
      },
      "execution_count": 24,
      "outputs": [
        {
          "name": "stdout",
          "output_type": "stream",
          "text": [
            "Please enter a value: 5\n"
          ]
        },
        {
          "output_type": "execute_result",
          "data": {
            "text/plain": [
              "'5'"
            ],
            "application/vnd.google.colaboratory.intrinsic+json": {
              "type": "string"
            }
          },
          "metadata": {},
          "execution_count": 24
        }
      ]
    },
    {
      "cell_type": "code",
      "source": [
        "result = input(\"Please enter a value: \")"
      ],
      "metadata": {
        "colab": {
          "base_uri": "https://localhost:8080/"
        },
        "id": "5_fYNdVmLkxJ",
        "outputId": "cb365a3b-1d57-4bc2-aadb-b824e77d1921"
      },
      "execution_count": 25,
      "outputs": [
        {
          "name": "stdout",
          "output_type": "stream",
          "text": [
            "Please enter a value: 5\n"
          ]
        }
      ]
    },
    {
      "cell_type": "code",
      "source": [
        "str(result)"
      ],
      "metadata": {
        "colab": {
          "base_uri": "https://localhost:8080/",
          "height": 35
        },
        "id": "1jV8lylqL8ZX",
        "outputId": "d974cb24-30ec-43ef-babe-4666d786149f"
      },
      "execution_count": 26,
      "outputs": [
        {
          "output_type": "execute_result",
          "data": {
            "text/plain": [
              "'5'"
            ],
            "application/vnd.google.colaboratory.intrinsic+json": {
              "type": "string"
            }
          },
          "metadata": {},
          "execution_count": 26
        }
      ]
    },
    {
      "cell_type": "code",
      "source": [],
      "metadata": {
        "id": "js7Rn4rpMKQY"
      },
      "execution_count": null,
      "outputs": []
    }
  ]
}