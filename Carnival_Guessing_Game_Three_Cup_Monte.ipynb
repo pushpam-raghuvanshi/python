{
  "nbformat": 4,
  "nbformat_minor": 0,
  "metadata": {
    "colab": {
      "name": "Carnival Guessing Game - Three Cup Monte.ipynb",
      "provenance": [],
      "collapsed_sections": [],
      "authorship_tag": "ABX9TyPCsSska+cIEXGfh8H1OPKW"
    },
    "kernelspec": {
      "name": "python3",
      "display_name": "Python 3"
    },
    "language_info": {
      "name": "python"
    }
  },
  "cells": [
    {
      "cell_type": "markdown",
      "source": [
        "# **Carnival Guessing Game - Three Cup Monte**\n",
        "---\n",
        "\n"
      ],
      "metadata": {
        "id": "WHmIZIHdkFjf"
      }
    },
    {
      "cell_type": "code",
      "execution_count": null,
      "metadata": {
        "id": "Sx46hYUTj3AC"
      },
      "outputs": [],
      "source": [
        "example = [1,2,3,4,5,6,7]"
      ]
    },
    {
      "cell_type": "code",
      "source": [
        "from random import shuffle"
      ],
      "metadata": {
        "id": "6G9uX2EakvYJ"
      },
      "execution_count": null,
      "outputs": []
    },
    {
      "cell_type": "code",
      "source": [
        "shuffle(example)"
      ],
      "metadata": {
        "id": "FykUir4fkxyh"
      },
      "execution_count": null,
      "outputs": []
    },
    {
      "cell_type": "code",
      "source": [
        "example"
      ],
      "metadata": {
        "colab": {
          "base_uri": "https://localhost:8080/"
        },
        "id": "Lp6lHSfik4x2",
        "outputId": "15eb15e6-de96-4775-e160-11dc7838ab5f"
      },
      "execution_count": null,
      "outputs": [
        {
          "output_type": "execute_result",
          "data": {
            "text/plain": [
              "[3, 1, 6, 5, 4, 7, 2]"
            ]
          },
          "metadata": {},
          "execution_count": 4
        }
      ]
    },
    {
      "cell_type": "code",
      "source": [
        "x = [2,3,4,5,7,6]\n",
        "r = shuffle(x)"
      ],
      "metadata": {
        "id": "1mPJugVIk-Ty"
      },
      "execution_count": null,
      "outputs": []
    },
    {
      "cell_type": "code",
      "source": [
        "r # not returning anything because shuffle() is inplace function"
      ],
      "metadata": {
        "id": "wjG9WztKlO8o"
      },
      "execution_count": null,
      "outputs": []
    },
    {
      "cell_type": "code",
      "source": [
        "def shuffle_list(mylist):\n",
        "  shuffle(mylist)\n",
        "  return mylist"
      ],
      "metadata": {
        "id": "Y6WVzzjwlPyK"
      },
      "execution_count": null,
      "outputs": []
    },
    {
      "cell_type": "code",
      "source": [
        "R = shuffle_list(x)"
      ],
      "metadata": {
        "id": "8AzTV3kjlsqL"
      },
      "execution_count": null,
      "outputs": []
    },
    {
      "cell_type": "code",
      "source": [
        "R "
      ],
      "metadata": {
        "colab": {
          "base_uri": "https://localhost:8080/"
        },
        "id": "DzZmEsmglzFf",
        "outputId": "ce873884-88d2-4049-b4ba-ef81abf4a3c2"
      },
      "execution_count": null,
      "outputs": [
        {
          "output_type": "execute_result",
          "data": {
            "text/plain": [
              "[4, 3, 5, 6, 2, 7]"
            ]
          },
          "metadata": {},
          "execution_count": 13
        }
      ]
    },
    {
      "cell_type": "code",
      "source": [
        "mylist = [' ', '0', ' ']"
      ],
      "metadata": {
        "id": "ybyCtvbMlz03"
      },
      "execution_count": null,
      "outputs": []
    },
    {
      "cell_type": "code",
      "source": [
        "shuffle_list(mylist)"
      ],
      "metadata": {
        "colab": {
          "base_uri": "https://localhost:8080/"
        },
        "id": "QefY7fvBmL3x",
        "outputId": "0f5e0e0f-ea1e-4a11-f27c-6d6134c966e6"
      },
      "execution_count": null,
      "outputs": [
        {
          "output_type": "execute_result",
          "data": {
            "text/plain": [
              "['0', ' ', ' ']"
            ]
          },
          "metadata": {},
          "execution_count": 15
        }
      ]
    },
    {
      "cell_type": "markdown",
      "source": [
        "---\n",
        "\n",
        "\n"
      ],
      "metadata": {
        "id": "P7-glv1rnWd9"
      }
    },
    {
      "cell_type": "code",
      "source": [
        "from random import shuffle"
      ],
      "metadata": {
        "id": "kPVryQJ6nLMH"
      },
      "execution_count": null,
      "outputs": []
    },
    {
      "cell_type": "code",
      "source": [
        "def shuffle_list(mylist):\n",
        "  shuffle(mylist)\n",
        "  return mylist"
      ],
      "metadata": {
        "id": "6qsh62QTnMPe"
      },
      "execution_count": null,
      "outputs": []
    },
    {
      "cell_type": "code",
      "source": [
        "mylist = [' ', 'O', ' ']"
      ],
      "metadata": {
        "id": "86xS-sUQnP2-"
      },
      "execution_count": null,
      "outputs": []
    },
    {
      "cell_type": "code",
      "source": [
        "shuffle_list(mylist)"
      ],
      "metadata": {
        "colab": {
          "base_uri": "https://localhost:8080/"
        },
        "id": "WYuVHdQ7nVZF",
        "outputId": "f44a56ef-9524-4178-c721-4bf117e4cd67"
      },
      "execution_count": null,
      "outputs": [
        {
          "output_type": "execute_result",
          "data": {
            "text/plain": [
              "[' ', 'O', ' ']"
            ]
          },
          "metadata": {},
          "execution_count": 11
        }
      ]
    },
    {
      "cell_type": "code",
      "source": [
        "def player_guess():\n",
        "\n",
        "  guess = ''\n",
        "  while guess not in ['0','1','2']:\n",
        "    guess = input(\"Pick a number from 0,1 or 2 : \")\n",
        "\n",
        "  return int(guess)"
      ],
      "metadata": {
        "id": "PD-WMMLDmOSt"
      },
      "execution_count": null,
      "outputs": []
    },
    {
      "cell_type": "code",
      "source": [
        "player_guess()"
      ],
      "metadata": {
        "colab": {
          "base_uri": "https://localhost:8080/"
        },
        "id": "RzzHdZuenk7Z",
        "outputId": "49b52080-f1ba-4689-9284-7cb7e4b0f5a3"
      },
      "execution_count": null,
      "outputs": [
        {
          "name": "stdout",
          "output_type": "stream",
          "text": [
            "Pick a number from 0,1 or 2 : \n",
            "Pick a number from 0,1 or 2 : 2\n"
          ]
        },
        {
          "output_type": "execute_result",
          "data": {
            "text/plain": [
              "2"
            ]
          },
          "metadata": {},
          "execution_count": 41
        }
      ]
    },
    {
      "cell_type": "code",
      "source": [
        "myindex = player_guess()"
      ],
      "metadata": {
        "colab": {
          "base_uri": "https://localhost:8080/"
        },
        "id": "7JHXF8f0nml6",
        "outputId": "2c779900-e40b-4194-88f7-f4a54693acae"
      },
      "execution_count": null,
      "outputs": [
        {
          "name": "stdout",
          "output_type": "stream",
          "text": [
            "Pick a number from 0,1 or 2 : 5\n",
            "Pick a number from 0,1 or 2 : 1\n"
          ]
        }
      ]
    },
    {
      "cell_type": "code",
      "source": [
        "def check_guess(mylist,guess):\n",
        "  if mylist[guess] == 'O':\n",
        "    print('Correct!')\n",
        "  else:\n",
        "    print('Wrong Guess!')\n",
        "    print(mylist)"
      ],
      "metadata": {
        "id": "mHs4N1Jbn7Bd"
      },
      "execution_count": null,
      "outputs": []
    },
    {
      "cell_type": "code",
      "source": [
        "# Initial list\n",
        "mylist = [' ','O',' ']\n",
        "\n",
        "# Shuffle list\n",
        "mixedup_list = shuffle_list(mylist)\n",
        "\n",
        "# User guess\n",
        "guess = player_guess()\n",
        "\n",
        "# Check guess\n",
        "check_guess(mylist,guess)"
      ],
      "metadata": {
        "colab": {
          "base_uri": "https://localhost:8080/"
        },
        "id": "Jar7zgnCoabn",
        "outputId": "90799df6-5f10-4de4-fb2b-ed4a813fcdc3"
      },
      "execution_count": null,
      "outputs": [
        {
          "output_type": "stream",
          "name": "stdout",
          "text": [
            "Pick a number from 0,1 or 2 : 2\n",
            "Wrong Guess!\n",
            "['O', ' ', ' ']\n"
          ]
        }
      ]
    },
    {
      "cell_type": "code",
      "source": [
        "2\n"
      ],
      "metadata": {
        "id": "E79_6iw1pBlP"
      },
      "execution_count": null,
      "outputs": []
    }
  ]
}